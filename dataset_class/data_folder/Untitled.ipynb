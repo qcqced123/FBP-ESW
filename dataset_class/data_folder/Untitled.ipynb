{
 "cells": [
  {
   "cell_type": "code",
   "execution_count": 1,
   "id": "bc53ae34-5314-458e-86e5-06806c48306b",
   "metadata": {
    "ExecuteTime": {
     "end_time": "2023-06-12T00:37:21.189936Z",
     "start_time": "2023-06-12T00:37:20.809336Z"
    }
   },
   "outputs": [],
   "source": [
    "import numpy as np\n",
    "import pandas as pd"
   ]
  },
  {
   "cell_type": "code",
   "execution_count": 2,
   "id": "6c2ba4b7-70bd-4354-9eb3-6425318d6057",
   "metadata": {
    "ExecuteTime": {
     "end_time": "2023-06-12T00:37:22.161176Z",
     "start_time": "2023-06-12T00:37:21.193167Z"
    }
   },
   "outputs": [
    {
     "data": {
      "text/plain": "                 id                                               text  \\\n0      E1FA876D6E6C  Dear Senator,\\n\\nI am writting this letter to ...   \n1      8AC1D6E165CD  Dear Principal, I believe in policy 2. Kids ar...   \n2      45EF6A4EDB1A  Summer projects are no fun, but they are a gre...   \n3      B0070361406D  The author who wrote \"The challenge of Explori...   \n4      839F4F7F7DD7  Our school systems have seen many changes as t...   \n...             ...                                                ...   \n15589  DB0E754610DB  In my opinion I think that the author did a gr...   \n15590  709156BCF733  Dear Principal:\\n\\nI think students must have ...   \n15591  A0F328ADB40C  I believe that students should not be allowed ...   \n15592  688370E9E6F1  i think that technology is valuable because yo...   \n15593  796911DBD5C2  Do you ever get tired of having to wake up so ...   \n\n                                                entities  fold  \n0      ['O', 'O', 'B-Lead', 'I-Lead', 'I-Lead', 'I-Le...     0  \n1      ['O', 'O', 'B-Position', 'I-Position', 'I-Posi...     4  \n2      ['B-Lead', 'I-Lead', 'I-Lead', 'I-Lead', 'I-Le...     3  \n3      ['B-Lead', 'I-Lead', 'I-Lead', 'I-Lead', 'I-Le...     0  \n4      ['B-Lead', 'I-Lead', 'I-Lead', 'I-Lead', 'I-Le...     4  \n...                                                  ...   ...  \n15589  ['B-Position', 'I-Position', 'I-Position', 'I-...     2  \n15590  ['O', 'O', 'B-Position', 'I-Position', 'I-Posi...     2  \n15591  ['B-Position', 'I-Position', 'I-Position', 'I-...     4  \n15592  ['B-Lead', 'I-Lead', 'I-Lead', 'I-Lead', 'I-Le...     0  \n15593  ['B-Lead', 'I-Lead', 'I-Lead', 'I-Lead', 'I-Le...     2  \n\n[15594 rows x 4 columns]",
      "text/html": "<div>\n<style scoped>\n    .dataframe tbody tr th:only-of-type {\n        vertical-align: middle;\n    }\n\n    .dataframe tbody tr th {\n        vertical-align: top;\n    }\n\n    .dataframe thead th {\n        text-align: right;\n    }\n</style>\n<table border=\"1\" class=\"dataframe\">\n  <thead>\n    <tr style=\"text-align: right;\">\n      <th></th>\n      <th>id</th>\n      <th>text</th>\n      <th>entities</th>\n      <th>fold</th>\n    </tr>\n  </thead>\n  <tbody>\n    <tr>\n      <th>0</th>\n      <td>E1FA876D6E6C</td>\n      <td>Dear Senator,\\n\\nI am writting this letter to ...</td>\n      <td>['O', 'O', 'B-Lead', 'I-Lead', 'I-Lead', 'I-Le...</td>\n      <td>0</td>\n    </tr>\n    <tr>\n      <th>1</th>\n      <td>8AC1D6E165CD</td>\n      <td>Dear Principal, I believe in policy 2. Kids ar...</td>\n      <td>['O', 'O', 'B-Position', 'I-Position', 'I-Posi...</td>\n      <td>4</td>\n    </tr>\n    <tr>\n      <th>2</th>\n      <td>45EF6A4EDB1A</td>\n      <td>Summer projects are no fun, but they are a gre...</td>\n      <td>['B-Lead', 'I-Lead', 'I-Lead', 'I-Lead', 'I-Le...</td>\n      <td>3</td>\n    </tr>\n    <tr>\n      <th>3</th>\n      <td>B0070361406D</td>\n      <td>The author who wrote \"The challenge of Explori...</td>\n      <td>['B-Lead', 'I-Lead', 'I-Lead', 'I-Lead', 'I-Le...</td>\n      <td>0</td>\n    </tr>\n    <tr>\n      <th>4</th>\n      <td>839F4F7F7DD7</td>\n      <td>Our school systems have seen many changes as t...</td>\n      <td>['B-Lead', 'I-Lead', 'I-Lead', 'I-Lead', 'I-Le...</td>\n      <td>4</td>\n    </tr>\n    <tr>\n      <th>...</th>\n      <td>...</td>\n      <td>...</td>\n      <td>...</td>\n      <td>...</td>\n    </tr>\n    <tr>\n      <th>15589</th>\n      <td>DB0E754610DB</td>\n      <td>In my opinion I think that the author did a gr...</td>\n      <td>['B-Position', 'I-Position', 'I-Position', 'I-...</td>\n      <td>2</td>\n    </tr>\n    <tr>\n      <th>15590</th>\n      <td>709156BCF733</td>\n      <td>Dear Principal:\\n\\nI think students must have ...</td>\n      <td>['O', 'O', 'B-Position', 'I-Position', 'I-Posi...</td>\n      <td>2</td>\n    </tr>\n    <tr>\n      <th>15591</th>\n      <td>A0F328ADB40C</td>\n      <td>I believe that students should not be allowed ...</td>\n      <td>['B-Position', 'I-Position', 'I-Position', 'I-...</td>\n      <td>4</td>\n    </tr>\n    <tr>\n      <th>15592</th>\n      <td>688370E9E6F1</td>\n      <td>i think that technology is valuable because yo...</td>\n      <td>['B-Lead', 'I-Lead', 'I-Lead', 'I-Lead', 'I-Le...</td>\n      <td>0</td>\n    </tr>\n    <tr>\n      <th>15593</th>\n      <td>796911DBD5C2</td>\n      <td>Do you ever get tired of having to wake up so ...</td>\n      <td>['B-Lead', 'I-Lead', 'I-Lead', 'I-Lead', 'I-Le...</td>\n      <td>2</td>\n    </tr>\n  </tbody>\n</table>\n<p>15594 rows × 4 columns</p>\n</div>"
     },
     "execution_count": 2,
     "metadata": {},
     "output_type": "execute_result"
    }
   ],
   "source": [
    "train_df = pd.read_csv('final_converted_train_df.csv')\n",
    "train_df"
   ]
  },
  {
   "cell_type": "code",
   "execution_count": 3,
   "id": "adc6cbfe-33f1-4ecf-9c31-29c3aad6a3dc",
   "metadata": {
    "ExecuteTime": {
     "end_time": "2023-06-12T00:39:08.311912Z",
     "start_time": "2023-06-12T00:39:08.308277Z"
    }
   },
   "outputs": [],
   "source": [
    "val_ids_list = []\n",
    "test_list = [1,2,3,4]"
   ]
  },
  {
   "cell_type": "code",
   "execution_count": 5,
   "outputs": [],
   "source": [
    "for i in range(2):\n",
    "    val_ids_list += test_list"
   ],
   "metadata": {
    "collapsed": false,
    "ExecuteTime": {
     "end_time": "2023-06-12T00:39:50.555355Z",
     "start_time": "2023-06-12T00:39:50.552779Z"
    }
   }
  },
  {
   "cell_type": "code",
   "execution_count": 6,
   "outputs": [
    {
     "data": {
      "text/plain": "[1, 2, 3, 4, 1, 2, 3, 4]"
     },
     "execution_count": 6,
     "metadata": {},
     "output_type": "execute_result"
    }
   ],
   "source": [
    "val_ids_list"
   ],
   "metadata": {
    "collapsed": false,
    "ExecuteTime": {
     "end_time": "2023-06-12T00:39:52.776654Z",
     "start_time": "2023-06-12T00:39:52.772436Z"
    }
   }
  },
  {
   "cell_type": "code",
   "execution_count": 7,
   "outputs": [
    {
     "data": {
      "text/plain": "             id                                               text  \\\n0  E1FA876D6E6C  Dear Senator,\\n\\nI am writting this letter to ...   \n\n                                            entities  fold  \n0  ['O', 'O', 'B-Lead', 'I-Lead', 'I-Lead', 'I-Le...     0  ",
      "text/html": "<div>\n<style scoped>\n    .dataframe tbody tr th:only-of-type {\n        vertical-align: middle;\n    }\n\n    .dataframe tbody tr th {\n        vertical-align: top;\n    }\n\n    .dataframe thead th {\n        text-align: right;\n    }\n</style>\n<table border=\"1\" class=\"dataframe\">\n  <thead>\n    <tr style=\"text-align: right;\">\n      <th></th>\n      <th>id</th>\n      <th>text</th>\n      <th>entities</th>\n      <th>fold</th>\n    </tr>\n  </thead>\n  <tbody>\n    <tr>\n      <th>0</th>\n      <td>E1FA876D6E6C</td>\n      <td>Dear Senator,\\n\\nI am writting this letter to ...</td>\n      <td>['O', 'O', 'B-Lead', 'I-Lead', 'I-Lead', 'I-Le...</td>\n      <td>0</td>\n    </tr>\n  </tbody>\n</table>\n</div>"
     },
     "execution_count": 7,
     "metadata": {},
     "output_type": "execute_result"
    }
   ],
   "source": [
    "train_df.loc[train_df['id']=='E1FA876D6E6C']"
   ],
   "metadata": {
    "collapsed": false,
    "ExecuteTime": {
     "end_time": "2023-06-12T00:51:56.749251Z",
     "start_time": "2023-06-12T00:51:56.744083Z"
    }
   }
  },
  {
   "cell_type": "code",
   "execution_count": 9,
   "outputs": [
    {
     "data": {
      "text/plain": "numpy.float64"
     },
     "execution_count": 9,
     "metadata": {},
     "output_type": "execute_result"
    }
   ],
   "source": [
    "type(np.array([1,2,3,4,5,6]).mean())"
   ],
   "metadata": {
    "collapsed": false,
    "ExecuteTime": {
     "end_time": "2023-06-12T01:00:43.512225Z",
     "start_time": "2023-06-12T01:00:43.508892Z"
    }
   }
  },
  {
   "cell_type": "code",
   "execution_count": null,
   "outputs": [],
   "source": [],
   "metadata": {
    "collapsed": false
   }
  }
 ],
 "metadata": {
  "kernelspec": {
   "display_name": "Python 3 (ipykernel)",
   "language": "python",
   "name": "python3"
  },
  "language_info": {
   "codemirror_mode": {
    "name": "ipython",
    "version": 3
   },
   "file_extension": ".py",
   "mimetype": "text/x-python",
   "name": "python",
   "nbconvert_exporter": "python",
   "pygments_lexer": "ipython3",
   "version": "3.9.4"
  }
 },
 "nbformat": 4,
 "nbformat_minor": 5
}
